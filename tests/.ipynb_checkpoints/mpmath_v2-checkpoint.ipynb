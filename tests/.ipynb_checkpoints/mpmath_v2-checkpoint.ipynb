{
 "cells": [
  {
   "cell_type": "code",
   "execution_count": null,
   "id": "eedd67d2",
   "metadata": {},
   "outputs": [],
   "source": [
    "import mpmath\n",
    "\n",
    "mpmath.mp.dps = 50  # Set desired decimal precision\n",
    "eps = mpmath.mpf('1e-3')\n",
    "\n",
    "# Power-law potential function\n",
    "def psi_powerlaw(x, amp, core, p):\n",
    "    return amp * (x**2 + core**2)**(p / 2) - amp * core**p\n",
    "\n",
    "# Main integrand function\n",
    "def func_powerlaw(x, w, y, amp, core, p):\n",
    "    return mpmath.besselj(0, w * y * mpmath.sqrt(2 * x)) * mpmath.exp(-1j * w * psi_powerlaw(mpmath.sqrt(2 * x), amp, core, p))\n",
    "\n",
    "# Function multiplied by exp(i w x)\n",
    "def func2_powerlaw(x, w, y, amp, core, p):\n",
    "    return func_powerlaw(x, w, y, amp, core, p) * mpmath.exp(1j * w * x)\n",
    "\n",
    "# First derivative of func_powerlaw with respect to x\n",
    "def dfunc_powerlaw(x, w, y, amp, core, p):\n",
    "    sqrt2x = mpmath.sqrt(2 * x)\n",
    "    psi_val = psi_powerlaw(sqrt2x, amp, core, p)\n",
    "    dpsi = amp * p * sqrt2x / (x + core**2)**(1 - p/2)\n",
    "    J1 = mpmath.besselj(1, w * y * sqrt2x)\n",
    "    prefactor = -w * y / sqrt2x\n",
    "    return prefactor * J1 * mpmath.exp(-1j * w * psi_val) - 1j * w / (2 * x) * func_powerlaw(x, w, y, amp, core, p)\n",
    "\n",
    "# Second derivative of func_powerlaw with respect to x\n",
    "def ddfunc_powerlaw(x, w, y, amp, core, p):\n",
    "    sqrt2x = mpmath.sqrt(2 * x)\n",
    "    psi_val = psi_powerlaw(sqrt2x, amp, core, p)\n",
    "    dpsi = amp * p * sqrt2x / (sqrt2x**2 + core**2)**(1 - p/2)\n",
    "    denom = (2 * x + core**2)**(1 - p/2)\n",
    "    d2psi = amp * p * (1 - p / 2) * (2 * x)**(-0.5) * (1 - 2 * x / (2 * x + core**2)) / denom\n",
    "\n",
    "    term1 = w * y / (2 * x * sqrt2x) * (2 + 1j * w) * mpmath.besselj(1, w * y * sqrt2x) * mpmath.exp(-1j * w * psi_val)\n",
    "    term2 = -1 / (2 * x) * (w**2 * y**2 - 1j * w / x) * func_powerlaw(x, w, y, amp, core, p)\n",
    "    term3 = -1j * w / (2 * x) * dfunc_powerlaw(x, w, y, amp, core, p)\n",
    "    return term1 + term2 + term3\n",
    "\n",
    "# Main amplification factor calculation\n",
    "def PowerLawAmplification(w, y, amp, core, p):\n",
    "    a = mpmath.mpf('0.0001')\n",
    "    #b = mpmath.mpf('1000.0') / w\n",
    "\n",
    "    #b = mpmath.mpf('1000.0') / w\n",
    "    #b = min(b, mpmath.mpf('1e4'))  # cap maximum b to 10,000 regardless of w\n",
    "    #eps = mpmath.mpf('1e-3')       # relax tolerance for low w\n",
    "\n",
    "    #zzp = mpmath.mpf('-1.0')\n",
    "    #eps = mpmath.mpf('1e-4')\n",
    "\n",
    "    while True:\n",
    "        zz = mpmath.quadosc(lambda x: func2_powerlaw(x, w, y, amp, core, p), [a, b])\n",
    "        zz += (-func_powerlaw(b, w, y, amp, core, p) / (1j * w) * mpmath.exp(1j * w * b) -\n",
    "               dfunc_powerlaw(b, w, y, amp, core, p) / (w**2) * mpmath.exp(1j * w * b) +\n",
    "               ddfunc_powerlaw(b, w, y, amp, core, p) / (1j * w**3) * mpmath.exp(1j * w * b))\n",
    "        if mpmath.fabs(zz / zzp - 1) < eps:\n",
    "            break\n",
    "        zzp = zz\n",
    "        b = min(b * 10, mpmath.mpf('1e5') / w)\n",
    "\n",
    "    return -1j * w * mpmath.exp(0.5 * 1j * w * y**2) * zz\n"
   ]
  },
  {
   "cell_type": "code",
   "execution_count": 12,
   "id": "32aa31b6",
   "metadata": {},
   "outputs": [
    {
     "name": "stdout",
     "output_type": "stream",
     "text": [
      "(420.45016540268852879062379646627230988458817422235 - 1470.7386390121392872858495602551607590617655471469j)\n"
     ]
    }
   ],
   "source": [
    "\n",
    "mpmath.mp.dps = 50\n",
    "\n",
    "w = mpmath.mpf('0.3')\n",
    "y = mpmath.mpf('.01')\n",
    "amp = mpmath.mpf('1.0')\n",
    "core = mpmath.mpf('0')\n",
    "p = mpmath.mpf('1.')\n",
    "\n",
    "result = PowerLawAmplification(w, y, amp, core, p)\n",
    "print(result)\n"
   ]
  },
  {
   "cell_type": "code",
   "execution_count": null,
   "id": "03cf914c",
   "metadata": {},
   "outputs": [],
   "source": []
  }
 ],
 "metadata": {
  "kernelspec": {
   "display_name": "gwlens",
   "language": "python",
   "name": "python3"
  },
  "language_info": {
   "codemirror_mode": {
    "name": "ipython",
    "version": 3
   },
   "file_extension": ".py",
   "mimetype": "text/x-python",
   "name": "python",
   "nbconvert_exporter": "python",
   "pygments_lexer": "ipython3",
   "version": "3.11.11"
  }
 },
 "nbformat": 4,
 "nbformat_minor": 5
}
