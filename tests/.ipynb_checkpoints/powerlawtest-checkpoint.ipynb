{
 "cells": [
  {
   "cell_type": "code",
   "execution_count": 10,
   "id": "03a10aff",
   "metadata": {},
   "outputs": [],
   "source": [
    "import numpy as np\n",
    "from scipy.special import jv\n",
    "from scipy.integrate import quad\n",
    "import warnings\n",
    "\n",
    "warnings.simplefilter('ignore')\n",
    "\n",
    "eps = 1.e-4  # Relative accuracy of F(w, y)\n",
    "\n",
    "def psi_powerlaw(x, amp, core, p):\n",
    "    \"\"\"\n",
    "    Power-law potential.\n",
    "    amp: amplitude parameter (formerly 'a')\n",
    "    core: core radius (formerly 'b')\n",
    "    p: power-law index (0 < p < 2)\n",
    "    \"\"\"\n",
    "    return amp * (x**2 + core**2)**(p / 2) - amp * core**p\n",
    "\n",
    "def func_powerlaw(x, w, y, amp, core, p):\n",
    "    return jv(0, w * y * np.sqrt(2 * x)) * np.exp(-1j * w * psi_powerlaw(np.sqrt(2 * x), amp, core, p))\n",
    "\n",
    "def func2_powerlaw(x, w, y, amp, core, p):\n",
    "    return func_powerlaw(x, w, y, amp, core, p) * np.exp(1j * w * x)\n",
    "\n",
    "def dfunc_powerlaw(x, w, y, amp, core, p):\n",
    "    psi_val = psi_powerlaw(np.sqrt(2 * x), amp, core, p)\n",
    "    dpsi = amp * p * np.sqrt(2 * x) / (x + core**2)**(1 - p/2)  # d/dx sqrt(2x) term applied\n",
    "    J1 = jv(1, w * y * np.sqrt(2 * x))\n",
    "    prefactor = -w * y / np.sqrt(2 * x)\n",
    "    return prefactor * J1 * np.exp(-1j * w * psi_val) - 1j * w / (2 * x) * func_powerlaw(x, w, y, amp, core, p)\n",
    "\n",
    "def ddfunc_powerlaw(x, w, y, amp, core, p):\n",
    "    sqrt2x = np.sqrt(2 * x)\n",
    "    psi_val = psi_powerlaw(sqrt2x, amp, core, p)\n",
    "    dpsi = amp * p * sqrt2x / (sqrt2x**2 + core**2)**(1 - p/2)\n",
    "    d2psi = amp * p * (1 - p / 2) * (2 * x)**(-0.5) * (1 - 2 * x / (2 * x + core**2)) / (2 * x + core**2)**(1 - p/2)\n",
    "    \n",
    "    term1 = w * y / (2 * x * sqrt2x) * (2 + 1j * w) * jv(1, w * y * sqrt2x) * np.exp(-1j * w * psi_val)\n",
    "    term2 = -1 / (2 * x) * (w**2 * y**2 - 1j * w / x) * func_powerlaw(x, w, y, amp, core, p)\n",
    "    term3 = -1j * w / (2 * x) * dfunc_powerlaw(x, w, y, amp, core, p)\n",
    "    return term1 + term2 + term3\n",
    "\n",
    "def PowerLawAmplification(w, y, amp, core, p):\n",
    "    \"\"\"\n",
    "    Computes the amplification factor for a power-law potential.\n",
    "    \n",
    "    Parameters:\n",
    "        w: Frequency parameter.\n",
    "        y: Impact parameter.\n",
    "        amp: Amplitude of the potential.\n",
    "        core: Core size.\n",
    "        p: Power-law index (0 < p < 2).\n",
    "    \"\"\"\n",
    "    a = 0.0001\n",
    "    b = 10000. / w\n",
    "    zzp = -1.\n",
    "    while True:\n",
    "        zz = quad(func2_powerlaw, a, b, args=(w, y, amp, core, p), limit=int(1e+7), epsrel=eps/3., complex_func=True)[0]\n",
    "        zz += (-func_powerlaw(b, w, y, amp, core, p) / (1j * w) * np.exp(1j * w * b) -\n",
    "               dfunc_powerlaw(b, w, y, amp, core, p) / (w * w) * np.exp(1j * w * b) +\n",
    "               ddfunc_powerlaw(b, w, y, amp, core, p) / (1j * w**3) * np.exp(1j * w * b))\n",
    "        if np.abs(zz / zzp - 1) < eps:\n",
    "            break\n",
    "        zzp = zz\n",
    "        b = min(b * 10, 10**5 / w)\n",
    "    return -1j * w * np.exp(0.5 * 1j * w * y * y) * zz\n"
   ]
  },
  {
   "cell_type": "code",
   "execution_count": null,
   "id": "c99be873",
   "metadata": {},
   "outputs": [],
   "source": []
  },
  {
   "cell_type": "code",
   "execution_count": 11,
   "id": "73573297",
   "metadata": {},
   "outputs": [],
   "source": [
    "def PL(w,y,amp,core,p):\n",
    "    F = []\n",
    "\n",
    "    for i in range(len(w)):\n",
    "        result = PowerLawAmplification(w[i],y,amp,core,p)\n",
    "        F.append(result)\n",
    "        print(result)\n",
    "    return F\n"
   ]
  },
  {
   "cell_type": "markdown",
   "id": "058afe0a",
   "metadata": {},
   "source": []
  },
  {
   "cell_type": "code",
   "execution_count": 12,
   "id": "11a385d0",
   "metadata": {},
   "outputs": [
    {
     "name": "stdout",
     "output_type": "stream",
     "text": [
      "(1.0486872690191813-0.03082322002309281j)\n",
      "(1.6708846708123-2.61289909238123j)\n",
      "(0.4560281411063947-4.305428446334158j)\n",
      "(-1.5811680146609763-5.2002087045580225j)\n",
      "(-10.91011304840183-5.080050165620712j)\n",
      "(-6.322318550670246-3.884316985929338j)\n",
      "(-8.137286292769186-1.6951742761111588j)\n",
      "(-9.041634691023718+1.2256491640485696j)\n",
      "(-8.76634509889292+4.475870423007851j)\n",
      "(-7.262668688416311+7.59052530468681j)\n",
      "(-4.5728054739374455+10.08568007568607j)\n",
      "(-1.0140589535056905+11.530890654342267j)\n",
      "(3.0080865154859318+11.640986851148748j)\n",
      "(6.9851675826855795+10.280197909911715j)\n",
      "(10.358966121748855+7.510565355256728j)\n",
      "(12.637272093959819+3.6116474937852323j)\n",
      "(13.446539510853942-0.981485602109884j)\n",
      "(12.587060570473446-5.710212153313395j)\n",
      "(10.082235602389169-9.9646099988817j)\n",
      "(6.15953481100269-13.177322210710566j)\n",
      "(1.2468017985145476-14.87811101732969j)\n",
      "(-4.072812401050091-14.792190874634725j)\n",
      "(-9.143004510309648-12.811233849911135j)\n",
      "(-13.325933520722574-9.141418082892763j)\n",
      "(-16.021595201607777-4.143260861828638j)\n",
      "(-16.867222886694424+1.5918686881483843j)\n",
      "(-15.652116918481775+7.369181448807631j)\n",
      "(-12.468437242538334+12.470439940873483j)\n",
      "(-8.477982816843783+16.234375614954274j)\n",
      "(-1.7242420994696794+18.13752683870129j)\n",
      "(4.610530556957871+17.88909846913303j)\n",
      "(10.546860922921823+15.440835823160775j)\n",
      "(15.367593149521129+11.048582403473622j)\n",
      "(18.418763996895954+5.199229329588238j)\n",
      "(19.300754488320347-1.4617459714349808j)\n",
      "(17.819190177090228-8.095210293409423j)\n",
      "(14.110667511794833-13.889024164994119j)\n",
      "(8.569551275449427-18.115155523909667j)\n",
      "(1.8344194156197307-20.20803035429203j)\n",
      "(-5.284733392935942-19.861231451394904j)\n",
      "(-11.932228757935663-17.063706917755223j)\n",
      "(-17.286474028293412-12.10656776269971j)\n",
      "(-20.634517381717785-5.563891647240384j)\n",
      "(-21.55430165323685+1.8414806128836632j)\n",
      "(-19.8523103288015+9.160488440062935j)\n",
      "(-15.71758514599373+15.518824734602841j)\n",
      "(-9.596192902198846+20.126081688990546j)\n",
      "(-2.204668170036997+22.37878608978143j)\n",
      "(5.580873216932556+21.951292621477247j)\n",
      "(12.813463880262885+18.860265039242726j)\n"
     ]
    }
   ],
   "source": [
    "w = np.linspace(0.0001,30,50)\n",
    "y = 0.01\n",
    "amp = 1.0\n",
    "core = 0\n",
    "p = 1.3\n",
    "F = PL(w,y,amp,core,p)"
   ]
  },
  {
   "cell_type": "code",
   "execution_count": 9,
   "id": "411af5ec",
   "metadata": {},
   "outputs": [
    {
     "data": {
      "image/png": "[encoded data removed]",
      "text/plain": [
       "<Figure size 640x480 with 1 Axes>"
      ]
     },
     "metadata": {},
     "output_type": "display_data"
    }
   ],
   "source": [
    "import matplotlib.pyplot as plt\n",
    "\n",
    "plt.plot(w,np.abs(F))\n",
    "plt.xscale(\"log\")"
   ]
  },
  {
   "cell_type": "code",
   "execution_count": null,
   "id": "d5789241",
   "metadata": {},
   "outputs": [],
   "source": []
  }
 ],
 "metadata": {
  "kernelspec": {
   "display_name": "gwlens",
   "language": "python",
   "name": "python3"
  },
  "language_info": {
   "codemirror_mode": {
    "name": "ipython",
    "version": 3
   },
   "file_extension": ".py",
   "mimetype": "text/x-python",
   "name": "python",
   "nbconvert_exporter": "python",
   "pygments_lexer": "ipython3",
   "version": "3.11.11"
  }
 },
 "nbformat": 4,
 "nbformat_minor": 5
}
