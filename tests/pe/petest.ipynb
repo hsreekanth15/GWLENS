{
 "cells": [
  {
   "cell_type": "code",
   "execution_count": null,
   "id": "4ddededc",
   "metadata": {},
   "outputs": [],
   "source": [
    "#from gwlens.pe.waveform import lensed_lal_binary_black_hole"
   ]
  },
  {
   "cell_type": "code",
   "execution_count": 2,
   "id": "339c26d4",
   "metadata": {},
   "outputs": [],
   "source": [
    "import numpy as np\n",
    "frequency_array = np.linspace(20,100,1000)\n",
    "mass_1 = 30\n",
    "mass_2 = 30\n",
    "luminosity_distance =  1000\n",
    "a_1 = 0\n",
    "tilt_1 = 0.1\n",
    "phi_12 = 0.4 \n",
    "a_2 = 0\n",
    "tilt_2 = 0.1\n",
    "phi_jl = 0.6\n",
    "theta_jn = 0.8\n",
    "phase = 0.5\n",
    "MLz = 30\n",
    "y = 0.1\n",
    "\n",
    "\n"
   ]
  },
  {
   "cell_type": "code",
   "execution_count": 4,
   "id": "5c6c2078",
   "metadata": {},
   "outputs": [],
   "source": [
    "from bilby.gw.source import lal_binary_black_hole\n",
    "from scipy.constants import c,G\n",
    "import numpy as np\n",
    "import h5py\n",
    "from scipy.interpolate import RectBivariateSpline\n",
    "Msun = 1.988e+30\n",
    "constant = (8*np.pi*G/c**3)*Msun\n",
    "\n",
    "\n",
    "#load the interpolation file\n",
    "\n",
    "file = \"/work/sreekanth/codes/globular_cluster/ampfac/pml/outdir/interpolation/result_point.hdf5\"\n",
    "with h5py.File(file, 'r') as file:\n",
    "    w_values = file['w_values'][:]\n",
    "    y_values = file['y_values'][:]\n",
    "    data = file['results'][:]  # (len(w), len(y), 2)\n",
    "\n",
    "real_data = data[:, :, 0]\n",
    "imag_data = data[:, :, 1]\n",
    "\n",
    "real_spline = RectBivariateSpline(w_values,y_values, real_data, kx=3, ky=3)\n",
    "imag_spline = RectBivariateSpline(w_values, y_values, imag_data, kx=3, ky=3)\n",
    "\n",
    "\n",
    "def lensed_lal_binary_black_hole(frequency_array, mass_1, mass_2, luminosity_distance, a_1,tilt_1,\n",
    "                                 phi_12,a_2,tilt_2,phi_jl,theta_jn,phase,MLz,y,**kwargs):\n",
    "    \n",
    "    ws = constant*MLz*frequency_array\n",
    "    #F_interpolate = kwargs['F_amp']\n",
    "    F = real_spline(ws,y) + 1j*imag_spline(ws,y)\n",
    "    \n",
    "\n",
    "    waveform_kwargs = dict(\n",
    "        waveform_approximant='IMRPhenomXAS', reference_frequency=50.0,\n",
    "        minimum_frequency=20.0, maximum_frequency=frequency_array[-1],\n",
    "        catch_waveform_errors=False, pn_spin_order=-1, pn_tidal_order=-1,\n",
    "        pn_phase_order=-1, pn_amplitude_order=0)\n",
    "    waveform_kwargs.update(kwargs)\n",
    "    waveform_dict = lal_binary_black_hole(\n",
    "        frequency_array=frequency_array, mass_1=mass_1, mass_2=mass_2,\n",
    "        luminosity_distance=luminosity_distance, theta_jn=theta_jn, phase=phase,\n",
    "        a_1=a_1, a_2=a_2, tilt_1=tilt_1, tilt_2=tilt_2, phi_12=phi_12,\n",
    "        phi_jl=phi_jl, **waveform_kwargs)\n",
    "    waveform_dict[\"plus\"] *= F\n",
    "    waveform_dict[\"cross\"] *= F\n",
    "    return waveform_dict\n"
   ]
  },
  {
   "cell_type": "code",
   "execution_count": 17,
   "id": "302432b4",
   "metadata": {},
   "outputs": [
    {
     "data": {
      "text/plain": [
       "array([0.81633255+1.58544018j, 0.28345129-0.39845172j,\n",
       "       1.66468845-1.91576729j])"
      ]
     },
     "execution_count": 17,
     "metadata": {},
     "output_type": "execute_result"
    }
   ],
   "source": [
    "ws = np.linspace(20,30,3)\n",
    "y = 0.1\n",
    "F = real_spline(ws,y,grid= True)[:,0] + 1j*imag_spline(ws,y,grid= True)[:,0]\n",
    "F"
   ]
  },
  {
   "cell_type": "code",
   "execution_count": 5,
   "id": "eaf48422",
   "metadata": {},
   "outputs": [
    {
     "name": "stderr",
     "output_type": "stream",
     "text": [
      "/work/sreekanth/miniconda3/envs/gwlenstest/lib/python3.11/site-packages/lalsimulation/lalsimulation.py:8: UserWarning: Wswiglal-redir-stdio:\n",
      "\n",
      "SWIGLAL standard output/error redirection is enabled in IPython.\n",
      "This may lead to performance penalties. To disable locally, use:\n",
      "\n",
      "with lal.no_swig_redirect_standard_output_error():\n",
      "    ...\n",
      "\n",
      "To disable globally, use:\n",
      "\n",
      "lal.swig_redirect_standard_output_error(False)\n",
      "\n",
      "Note however that this will likely lead to error messages from\n",
      "LAL functions being either misdirected or lost when called from\n",
      "Jupyter notebooks.\n",
      "\n",
      "To suppress this warning, use:\n",
      "\n",
      "import warnings\n",
      "warnings.filterwarnings(\"ignore\", \"Wswiglal-redir-stdio\")\n",
      "import lal\n",
      "\n",
      "  import lal\n"
     ]
    },
    {
     "ename": "ValueError",
     "evalue": "non-broadcastable output operand with shape (1000,) doesn't match the broadcast shape (1000,1000)",
     "output_type": "error",
     "traceback": [
      "\u001b[31m---------------------------------------------------------------------------\u001b[39m",
      "\u001b[31mValueError\u001b[39m                                Traceback (most recent call last)",
      "\u001b[36mCell\u001b[39m\u001b[36m \u001b[39m\u001b[32mIn[5]\u001b[39m\u001b[32m, line 1\u001b[39m\n\u001b[32m----> \u001b[39m\u001b[32m1\u001b[39m \u001b[43mlensed_lal_binary_black_hole\u001b[49m\u001b[43m(\u001b[49m\u001b[43mfrequency_array\u001b[49m\u001b[43m,\u001b[49m\u001b[43mmass_1\u001b[49m\u001b[43m,\u001b[49m\u001b[43mmass_2\u001b[49m\u001b[43m,\u001b[49m\u001b[43mluminosity_distance\u001b[49m\u001b[43m,\u001b[49m\u001b[43m \u001b[49m\u001b[43ma_1\u001b[49m\u001b[43m,\u001b[49m\u001b[43mtilt_1\u001b[49m\u001b[43m,\u001b[49m\n\u001b[32m      2\u001b[39m \u001b[43m                                 \u001b[49m\u001b[43mphi_12\u001b[49m\u001b[43m,\u001b[49m\u001b[43ma_2\u001b[49m\u001b[43m,\u001b[49m\u001b[43mtilt_2\u001b[49m\u001b[43m,\u001b[49m\u001b[43mphi_jl\u001b[49m\u001b[43m,\u001b[49m\u001b[43mtheta_jn\u001b[49m\u001b[43m,\u001b[49m\u001b[43mphase\u001b[49m\u001b[43m,\u001b[49m\u001b[43mMLz\u001b[49m\u001b[43m,\u001b[49m\u001b[43my\u001b[49m\u001b[43m)\u001b[49m\n",
      "\u001b[36mCell\u001b[39m\u001b[36m \u001b[39m\u001b[32mIn[4]\u001b[39m\u001b[32m, line 44\u001b[39m, in \u001b[36mlensed_lal_binary_black_hole\u001b[39m\u001b[34m(frequency_array, mass_1, mass_2, luminosity_distance, a_1, tilt_1, phi_12, a_2, tilt_2, phi_jl, theta_jn, phase, MLz, y, **kwargs)\u001b[39m\n\u001b[32m     38\u001b[39m waveform_kwargs.update(kwargs)\n\u001b[32m     39\u001b[39m waveform_dict = lal_binary_black_hole(\n\u001b[32m     40\u001b[39m     frequency_array=frequency_array, mass_1=mass_1, mass_2=mass_2,\n\u001b[32m     41\u001b[39m     luminosity_distance=luminosity_distance, theta_jn=theta_jn, phase=phase,\n\u001b[32m     42\u001b[39m     a_1=a_1, a_2=a_2, tilt_1=tilt_1, tilt_2=tilt_2, phi_12=phi_12,\n\u001b[32m     43\u001b[39m     phi_jl=phi_jl, **waveform_kwargs)\n\u001b[32m---> \u001b[39m\u001b[32m44\u001b[39m \u001b[43mwaveform_dict\u001b[49m\u001b[43m[\u001b[49m\u001b[33;43m\"\u001b[39;49m\u001b[33;43mplus\u001b[39;49m\u001b[33;43m\"\u001b[39;49m\u001b[43m]\u001b[49m\u001b[43m \u001b[49m\u001b[43m*\u001b[49m\u001b[43m=\u001b[49m\u001b[43m \u001b[49m\u001b[43mF\u001b[49m\n\u001b[32m     45\u001b[39m waveform_dict[\u001b[33m\"\u001b[39m\u001b[33mcross\u001b[39m\u001b[33m\"\u001b[39m] *= F\n\u001b[32m     46\u001b[39m \u001b[38;5;28;01mreturn\u001b[39;00m waveform_dict\n",
      "\u001b[31mValueError\u001b[39m: non-broadcastable output operand with shape (1000,) doesn't match the broadcast shape (1000,1000)"
     ]
    }
   ],
   "source": [
    "lensed_lal_binary_black_hole(frequency_array,mass_1,mass_2,luminosity_distance, a_1,tilt_1,\n",
    "                                 phi_12,a_2,tilt_2,phi_jl,theta_jn,phase,MLz,y)"
   ]
  },
  {
   "cell_type": "code",
   "execution_count": null,
   "id": "544d0589",
   "metadata": {},
   "outputs": [],
   "source": []
  }
 ],
 "metadata": {
  "kernelspec": {
   "display_name": "gwlenstest",
   "language": "python",
   "name": "python3"
  },
  "language_info": {
   "codemirror_mode": {
    "name": "ipython",
    "version": 3
   },
   "file_extension": ".py",
   "mimetype": "text/x-python",
   "name": "python",
   "nbconvert_exporter": "python",
   "pygments_lexer": "ipython3",
   "version": "3.11.13"
  }
 },
 "nbformat": 4,
 "nbformat_minor": 5
}
